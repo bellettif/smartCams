{
 "metadata": {
  "name": "",
  "signature": "sha256:97b7a115b6708a3089049d9740cf24ba05d37d949dafee7bf244402061715d3e"
 },
 "nbformat": 3,
 "nbformat_minor": 0,
 "worksheets": [
  {
   "cells": [
    {
     "cell_type": "code",
     "collapsed": false,
     "input": [
      "%load segmentation/spectral.py"
     ],
     "language": "python",
     "metadata": {},
     "outputs": [],
     "prompt_number": 3
    },
    {
     "cell_type": "code",
     "collapsed": false,
     "input": [
      "'''\n",
      "Created on Apr 23, 2015\n",
      "\n",
      "    Spectral Clustering based segmentation of the image\n",
      "\n",
      "@author: Francois Belletti\n",
      "'''\n",
      "\n",
      "import numpy as np\n",
      "from sklearn.feature_extraction import image as skimage\n",
      "from sklearn.cluster import spectral_clustering\n",
      "\n",
      "\n",
      "def spectral_seg(pict, N_REGIONS, assign_labels = 'discretize'):\n",
      "    graph = skimage.img_to_graph(pict)\n",
      "    # Take a decreasing function of the gradient: an exponential\n",
      "    # The smaller beta is, the more independent the segmentation is of the\n",
      "    # actual image. For beta=1, the segmentation is close to a voronoi\n",
      "    beta = 5\n",
      "    eps = 1e-6\n",
      "    graph.data = np.exp(-beta * graph.data / pict.std()) + eps\n",
      "    #\n",
      "    #    Produce specral clusters\n",
      "    #\n",
      "    labels = spectral_clustering(graph,\n",
      "                                 n_clusters = N_REGIONS,\n",
      "                                 assign_labels = assign_labels,\n",
      "                                 random_state = 1)\n",
      "    #\n",
      "    labels = labels.reshape(pict.shape)\n",
      "    #\n",
      "    return labels\n",
      "\n"
     ],
     "language": "python",
     "metadata": {},
     "outputs": [],
     "prompt_number": 16
    },
    {
     "cell_type": "code",
     "collapsed": false,
     "input": [
      "import numpy as np\n",
      "import scipy as sp\n",
      "import matplotlib.pyplot as plt\n",
      "\n",
      "from sklearn.feature_extraction import image\n",
      "from sklearn.cluster import spectral_clustering"
     ],
     "language": "python",
     "metadata": {},
     "outputs": [],
     "prompt_number": 17
    },
    {
     "cell_type": "code",
     "collapsed": false,
     "input": [
      "lena = sp.misc.lena()\n",
      "lena = lena[::2, ::2] + lena[1::2, ::2] + lena[::2, 1::2] + lena[1::2, 1::2]\n",
      "lena = lena[::2, ::2] + lena[1::2, ::2] + lena[::2, 1::2] + lena[1::2, 1::2]"
     ],
     "language": "python",
     "metadata": {},
     "outputs": [],
     "prompt_number": 18
    },
    {
     "cell_type": "code",
     "collapsed": false,
     "input": [
      "labels = spectral_seg(lena, 11)"
     ],
     "language": "python",
     "metadata": {},
     "outputs": [],
     "prompt_number": 23
    },
    {
     "cell_type": "code",
     "collapsed": false,
     "input": [
      "%load segmentation/visualization.py"
     ],
     "language": "python",
     "metadata": {},
     "outputs": [],
     "prompt_number": 20
    },
    {
     "cell_type": "code",
     "collapsed": false,
     "input": [
      "'''\n",
      "Created on Apr 23, 2015\n",
      "\n",
      "    Visualization tools\n",
      "\n",
      "@author: Francois\n",
      "'''\n",
      "\n",
      "import matplotlib.pyplot as plt\n",
      "\n",
      "def plot_contours(pict, labels, N_REGIONS):\n",
      "    plt.figure(figsize=(5, 5))\n",
      "    plt.imshow(pict, cmap=plt.cm.gray)\n",
      "    for l in range(N_REGIONS):\n",
      "        plt.contour(labels == l, contours = 1,\n",
      "                    colors=[plt.cm.spectral(l / float(N_REGIONS)), ])\n",
      "    plt.xticks(())\n",
      "    plt.yticks(())\n",
      "    plt.title('Segmented image')\n",
      "    plt.show()"
     ],
     "language": "python",
     "metadata": {},
     "outputs": [],
     "prompt_number": 21
    },
    {
     "cell_type": "code",
     "collapsed": false,
     "input": [
      "plot_contours(lena, labels, 11)"
     ],
     "language": "python",
     "metadata": {},
     "outputs": [],
     "prompt_number": 22
    },
    {
     "cell_type": "code",
     "collapsed": false,
     "input": [],
     "language": "python",
     "metadata": {},
     "outputs": []
    }
   ],
   "metadata": {}
  }
 ]
}