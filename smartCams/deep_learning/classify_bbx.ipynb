{
 "cells": [
  {
   "cell_type": "code",
   "execution_count": null,
   "metadata": {
    "collapsed": false
   },
   "outputs": [],
   "source": [
    "import numpy as np\n",
    "import matplotlib.pyplot as plt\n",
    "%matplotlib inline\n",
    "\n",
    "home_dir = '/users/cusgadmin'\n",
    "# home_dir = '/Users/alvinyuan/Documents/Vision'\n",
    "\n",
    "# Make sure that caffe is on the python path:\n",
    "caffe_root = '%s/caffe/' % home_dir  # this file is expected to be in {caffe_root}/examples\n",
    "import sys\n",
    "sys.path.insert(0, caffe_root + 'python')\n",
    "\n",
    "import caffe\n",
    "\n",
    "# Set the right path to your model definition file, pretrained model weights,\n",
    "# and the image you would like to classify.\n",
    "MODEL_FILE = '%s/caffe/models/bvlc_reference_caffenet/deploy.prototxt' % home_dir\n",
    "PRETRAINED = '%s/caffe/models/bvlc_reference_caffenet/bvlc_reference_caffenet.caffemodel' % home_dir\n",
    "\n",
    "import os\n",
    "if not os.path.isfile(PRETRAINED):\n",
    "    print(\"Downloading pre-trained CaffeNet model...\")\n",
    "    !~/caffe/scripts/download_model_binary.py ~/caffe/models/bvlc_reference_caffenet"
   ]
  },
  {
   "cell_type": "code",
   "execution_count": null,
   "metadata": {
    "collapsed": false
   },
   "outputs": [],
   "source": [
    "caffe.set_mode_cpu()\n",
    "mean_image = np.load(caffe_root + 'python/caffe/imagenet/ilsvrc_2012_mean.npy')\n",
    "print mean_image.shape\n",
    "net = caffe.Classifier(MODEL_FILE, PRETRAINED,\n",
    "                       mean=mean_image.mean(1).mean(1),\n",
    "                       channel_swap=(2,1,0),\n",
    "                       raw_scale=255,\n",
    "                       image_dims=(256, 256))"
   ]
  },
  {
   "cell_type": "code",
   "execution_count": null,
   "metadata": {
    "collapsed": false
   },
   "outputs": [],
   "source": [
    "IMAGE_FILE = 'images/kettle.jpg'\n",
    "input_image = caffe.io.load_image(IMAGE_FILE)\n",
    "plt.imshow(input_image)"
   ]
  },
  {
   "cell_type": "code",
   "execution_count": null,
   "metadata": {
    "collapsed": false
   },
   "outputs": [],
   "source": [
    "! $HOME/caffe/data/ilsvrc12/get_ilsvrc_aux.sh"
   ]
  },
  {
   "cell_type": "code",
   "execution_count": null,
   "metadata": {
    "collapsed": false
   },
   "outputs": [],
   "source": [
    "import pandas as pd\n",
    "with open('%s/data/ilsvrc12/synset_words.txt' % caffe_root) as f:\n",
    "    labels_df = pd.DataFrame([\n",
    "        {\n",
    "            'synset_id': l.strip().split(' ')[0],\n",
    "            'name': ' '.join(l.strip().split(' ')[1:]).split(',')[0]\n",
    "        }\n",
    "        for l in f.readlines()\n",
    "    ])\n",
    "labels_df.sort('synset_id')\n",
    "labels_dict = labels_df.set_index('synset_id').to_dict()['name'] # maps synset_id to name\n",
    "print labels_dict"
   ]
  },
  {
   "cell_type": "code",
   "execution_count": null,
   "metadata": {
    "collapsed": false
   },
   "outputs": [],
   "source": [
    "prediction = net.predict([input_image])  # predict takes any number of images, and formats them for the Caffe net automatically\n",
    "print 'prediction shape:', prediction[0].shape\n",
    "plt.plot(prediction[0])\n",
    "predicted_idx = prediction[0].argmax()\n",
    "print 'predicted class:', predicted_idx\n",
    "print labels_df['name'][predicted_idx]"
   ]
  },
  {
   "cell_type": "code",
   "execution_count": null,
   "metadata": {
    "collapsed": false
   },
   "outputs": [],
   "source": [
    "import os\n",
    "import cv2\n",
    "\n",
    "#\n",
    "#   Run sementation.bounding_boxes.py prior to running this script\n",
    "#\n",
    "bbx_folder = '../region_proposals/'\n",
    "\n",
    "file_list = os.listdir(bbx_folder)\n",
    "\n",
    "image_list = [caffe.io.load_image(bbx_folder + x) for x in file_list]\n",
    "\n",
    "for image in image_list:\n",
    "    plt.imshow(image)\n",
    "    plt.show()"
   ]
  },
  {
   "cell_type": "code",
   "execution_count": null,
   "metadata": {
    "collapsed": false
   },
   "outputs": [],
   "source": [
    "prediction = net.predict(image_list)  # predict takes any number of images, and formats them for the Caffe net automatically\n",
    "for i in range(len(prediction)):\n",
    "    predicted_idx   = prediction[i].argmax()\n",
    "    predicted_class = labels_df['name'][predicted_idx]\n",
    "    plt.subplot(121)\n",
    "    plt.imshow(image_list[i])\n",
    "    plt.subplot(122)\n",
    "    plt.plot(prediction[i])\n",
    "    plt.title(predicted_class)\n",
    "    plt.show()\n",
    "    "
   ]
  },
  {
   "cell_type": "code",
   "execution_count": null,
   "metadata": {
    "collapsed": true
   },
   "outputs": [],
   "source": []
  },
  {
   "cell_type": "code",
   "execution_count": null,
   "metadata": {
    "collapsed": true
   },
   "outputs": [],
   "source": []
  }
 ],
 "metadata": {
  "kernelspec": {
   "display_name": "Python 2",
   "language": "python",
   "name": "python2"
  },
  "language_info": {
   "codemirror_mode": {
    "name": "ipython",
    "version": 2
   },
   "file_extension": ".py",
   "mimetype": "text/x-python",
   "name": "python",
   "nbconvert_exporter": "python",
   "pygments_lexer": "ipython2",
   "version": "2.7.5"
  }
 },
 "nbformat": 4,
 "nbformat_minor": 0
}
