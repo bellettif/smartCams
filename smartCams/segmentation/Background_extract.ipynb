{
 "cells": [
  {
   "cell_type": "code",
   "execution_count": 32,
   "metadata": {
    "collapsed": false
   },
   "outputs": [
    {
     "name": "stdout",
     "output_type": "stream",
     "text": [
      "(540, 960, 3)\n",
      "(540, 960, 3)\n",
      "(540, 960, 3)\n",
      "(540, 960, 3)\n"
     ]
    }
   ],
   "source": [
    "import cPickle as pickle\n",
    "from matplotlib import pyplot as plt\n",
    "import numpy as np\n",
    "import cv2\n",
    "import os\n",
    "import caffe\n",
    "\n",
    "blur_radius = 6\n",
    "\n",
    "input_folder = '../cam_imgs/'\n",
    "\n",
    "filter_out = ['median_image.jpg',\n",
    "              'high_image.jpg', \n",
    "              'low_image.jpg', \n",
    "              'std_image.jpg']\n",
    "\n",
    "image_list = os.listdir(input_folder)\n",
    "image_list = filter(lambda x : ('.jpg' in x) and (x not in filter_out), image_list)\n",
    "\n",
    "median_image = caffe.io.load_image(input_folder + 'median_image.jpg')\n",
    "high_image   = caffe.io.load_image(input_folder + 'high_image.jpg')\n",
    "low_image    = caffe.io.load_image(input_folder + 'low_image.jpg')\n",
    "std_image    = caffe.io.load_image(input_folder + 'std_image.jpg')\n",
    "\n",
    "image_shape = median_image.shape\n",
    "\n",
    "print median_image.shape\n",
    "print high_image.shape\n",
    "print low_image.shape\n",
    "print std_image.shape"
   ]
  },
  {
   "cell_type": "code",
   "execution_count": 33,
   "metadata": {
    "collapsed": false
   },
   "outputs": [],
   "source": [
    "plt.subplot(221)\n",
    "plt.imshow(median_image)\n",
    "plt.subplot(222)\n",
    "plt.imshow(low_image)\n",
    "plt.subplot(223)\n",
    "plt.imshow(high_image)\n",
    "plt.subplot(224)\n",
    "plt.imshow(std_image)\n",
    "plt.axis('off')\n",
    "plt.show()"
   ]
  },
  {
   "cell_type": "code",
   "execution_count": 34,
   "metadata": {
    "collapsed": true
   },
   "outputs": [],
   "source": [
    "in_image = caffe.io.load_image(input_folder + image_list[0])\n",
    "in_image = cv2.imread(input_folder + image_list[0])\n",
    "blur_in_image = cv2.blur(in_image, (blur_radius, blur_radius))"
   ]
  },
  {
   "cell_type": "code",
   "execution_count": 37,
   "metadata": {
    "collapsed": false
   },
   "outputs": [
    {
     "ename": "SyntaxError",
     "evalue": "invalid syntax (<ipython-input-37-8477bac2c15a>, line 2)",
     "output_type": "error",
     "traceback": [
      "\u001b[0;36m  File \u001b[0;32m\"<ipython-input-37-8477bac2c15a>\"\u001b[0;36m, line \u001b[0;32m2\u001b[0m\n\u001b[0;31m    foreground = np.zeros(image_shape)\u001b[0m\n\u001b[0m             ^\u001b[0m\n\u001b[0;31mSyntaxError\u001b[0m\u001b[0;31m:\u001b[0m invalid syntax\n"
     ]
    }
   ],
   "source": [
    "foreground_indices = np.where((blur_in_image[-3] > high_image[-3]) and (blur_in_image[-2] > high_image[-2]) and (blur_in_image[-1] > high_image[-1])\n",
    "foreground = np.zeros(image_shape)\n",
    "foreground[foreground_indices] = in_image[foreground_indices]\n",
    "foreground_indices = np.where((blur_in_image.mean(-1) < low_image.mean(-1)))\n",
    "foreground[foreground_indices] = in_image[foreground_indices]"
   ]
  },
  {
   "cell_type": "code",
   "execution_count": 36,
   "metadata": {
    "collapsed": false
   },
   "outputs": [
    {
     "name": "stdout",
     "output_type": "stream",
     "text": [
      "[[[ 0.38039216  0.32156864  0.34117648]\n",
      "  [ 0.49019608  0.44313726  0.45882353]\n",
      "  [ 0.51764709  0.47843137  0.50980395]\n",
      "  ..., \n",
      "  [ 0.0627451   0.0627451   0.0627451 ]\n",
      "  [ 0.05490196  0.05490196  0.05490196]\n",
      "  [ 0.05098039  0.05098039  0.05098039]]\n",
      "\n",
      " [[ 0.39607844  0.33725491  0.35686275]\n",
      "  [ 0.47450981  0.43137255  0.44705883]\n",
      "  [ 0.49803922  0.4627451   0.48235294]\n",
      "  ..., \n",
      "  [ 0.07450981  0.07450981  0.07450981]\n",
      "  [ 0.07058824  0.07058824  0.07058824]\n",
      "  [ 0.06666667  0.06666667  0.06666667]]\n",
      "\n",
      " [[ 0.47843137  0.41960785  0.43137255]\n",
      "  [ 0.51764709  0.47450981  0.49019608]\n",
      "  [ 0.          0.          0.        ]\n",
      "  ..., \n",
      "  [ 0.07843138  0.07843138  0.07843138]\n",
      "  [ 0.07450981  0.07450981  0.07450981]\n",
      "  [ 0.07843138  0.07843138  0.07843138]]\n",
      "\n",
      " ..., \n",
      " [[ 0.          0.          0.        ]\n",
      "  [ 0.          0.          0.        ]\n",
      "  [ 0.          0.          0.        ]\n",
      "  ..., \n",
      "  [ 0.          0.          0.        ]\n",
      "  [ 0.          0.          0.        ]\n",
      "  [ 0.          0.          0.        ]]\n",
      "\n",
      " [[ 0.          0.          0.        ]\n",
      "  [ 0.          0.          0.        ]\n",
      "  [ 0.          0.          0.        ]\n",
      "  ..., \n",
      "  [ 0.          0.          0.        ]\n",
      "  [ 0.          0.          0.        ]\n",
      "  [ 0.          0.          0.        ]]\n",
      "\n",
      " [[ 0.          0.          0.        ]\n",
      "  [ 0.          0.          0.        ]\n",
      "  [ 0.          0.          0.        ]\n",
      "  ..., \n",
      "  [ 0.          0.          0.        ]\n",
      "  [ 0.          0.          0.        ]\n",
      "  [ 0.          0.          0.        ]]]\n"
     ]
    }
   ],
   "source": [
    "print foreground\n",
    "\n",
    "plt.imshow(foreground)\n",
    "plt.show()"
   ]
  },
  {
   "cell_type": "code",
   "execution_count": null,
   "metadata": {
    "collapsed": true
   },
   "outputs": [],
   "source": []
  }
 ],
 "metadata": {
  "kernelspec": {
   "display_name": "Python 2",
   "language": "python",
   "name": "python2"
  },
  "language_info": {
   "codemirror_mode": {
    "name": "ipython",
    "version": 2
   },
   "file_extension": ".py",
   "mimetype": "text/x-python",
   "name": "python",
   "nbconvert_exporter": "python",
   "pygments_lexer": "ipython2",
   "version": "2.7.9"
  }
 },
 "nbformat": 4,
 "nbformat_minor": 0
}
