{
 "cells": [
  {
   "cell_type": "code",
   "execution_count": 4,
   "metadata": {
    "collapsed": false
   },
   "outputs": [],
   "source": [
    "import cPickle as pickle\n",
    "from matplotlib import pyplot as plt\n",
    "import numpy as np\n",
    "import cv2\n",
    "import os\n",
    "import caffe\n",
    "%matplotlib inline\n",
    "\n",
    "caffe.set_mode_gpu()\n",
    "\n",
    "#\n",
    "#    Exploration of convolutional layers of AlexNet\n",
    "#\n",
    "\n",
    "deploy_file = 'rcnn_model/deploy.prototxt'\n",
    "weight_file = 'rcnn_model/bvlc_reference_caffenet.caffemodel'\n",
    "\n",
    "net = caffe.Net(deploy_file, weight_file, caffe.TEST)"
   ]
  },
  {
   "cell_type": "code",
   "execution_count": 26,
   "metadata": {
    "collapsed": true
   },
   "outputs": [],
   "source": [
    "# take an array of shape (n, height, width) or (n, height, width, channels)\n",
    "# and visualize each (height, width) thing in a grid of size approx. sqrt(n) by sqrt(n)\n",
    "def vis_square(data, padsize=1, padval=0, filename = None):\n",
    "    data -= data.min()\n",
    "    data /= data.max()\n",
    "    \n",
    "    # force the number of filters to be square\n",
    "    n = int(np.ceil(np.sqrt(data.shape[0])))\n",
    "    padding = ((0, n ** 2 - data.shape[0]), (0, padsize), (0, padsize)) + ((0, 0),) * (data.ndim - 3)\n",
    "    data = np.pad(data, padding, mode='constant', constant_values=(padval, padval))\n",
    "    \n",
    "    # tile the filters into an image\n",
    "    data = data.reshape((n, n) + data.shape[1:]).transpose((0, 2, 1, 3) + tuple(range(4, data.ndim + 1)))\n",
    "    data = data.reshape((n * data.shape[1], n * data.shape[3]) + data.shape[4:])\n",
    "    \n",
    "    if( len(data.shape) < 4):\n",
    "        plt.cmap('gray')\n",
    "    plt.axis('off')\n",
    "    plt.imshow(data)\n",
    "    if filename is not None:\n",
    "        fig = plt.gcf()\n",
    "        fig.set_size_inches((16, 16))\n",
    "        plt.savefig(filename, dpi = 600)\n",
    "        plt.close()"
   ]
  },
  {
   "cell_type": "code",
   "execution_count": 29,
   "metadata": {
    "collapsed": false
   },
   "outputs": [
    {
     "name": "stdout",
     "output_type": "stream",
     "text": [
      "(96, 3, 11, 11)\n"
     ]
    }
   ],
   "source": [
    "# the parameters are a list of [weights, biases]\n",
    "filters = net.params['conv1'][0].data\n",
    "print filters.shape\n",
    "vis_square(filters.transpose(0, 2, 3, 1), filename = 'conv1.png')"
   ]
  },
  {
   "cell_type": "code",
   "execution_count": 37,
   "metadata": {
    "collapsed": false
   },
   "outputs": [
    {
     "name": "stdout",
     "output_type": "stream",
     "text": [
      "['conv1', 'conv2', 'conv3', 'conv4', 'conv5', 'fc6', 'fc7', 'fc-rcnn']\n",
      "(256, 48, 5, 5)\n"
     ]
    }
   ],
   "source": [
    "# the parameters are a list of [weights, biases]\n",
    "print net.params.keys()\n",
    "print net.params['conv2'][0].data.shape\n",
    "filters = net.params['conv2'][0].data.reshape(48*256,5,5)\n",
    "vis_square(filters, filename = 'conv2.png')"
   ]
  },
  {
   "cell_type": "code",
   "execution_count": 33,
   "metadata": {
    "collapsed": false
   },
   "outputs": [
    {
     "name": "stdout",
     "output_type": "stream",
     "text": [
      "(384, 256, 3, 3)\n"
     ]
    }
   ],
   "source": [
    "print net.params['conv3'][0].data.shape\n",
    "filters = net.params['conv3'][0].data.reshape((384*256/3,3,3,3))\n",
    "vis_square(filters.transpose(0, 2, 3, 1), filename = 'conv3.png')"
   ]
  },
  {
   "cell_type": "code",
   "execution_count": null,
   "metadata": {
    "collapsed": true
   },
   "outputs": [],
   "source": []
  }
 ],
 "metadata": {
  "kernelspec": {
   "display_name": "Python 2",
   "language": "python",
   "name": "python2"
  },
  "language_info": {
   "codemirror_mode": {
    "name": "ipython",
    "version": 2
   },
   "file_extension": ".py",
   "mimetype": "text/x-python",
   "name": "python",
   "nbconvert_exporter": "python",
   "pygments_lexer": "ipython2",
   "version": "2.7.9"
  }
 },
 "nbformat": 4,
 "nbformat_minor": 0
}
