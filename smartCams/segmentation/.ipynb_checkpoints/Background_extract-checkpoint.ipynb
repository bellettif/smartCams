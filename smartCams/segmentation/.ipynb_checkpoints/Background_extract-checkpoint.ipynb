{
 "cells": [
  {
   "cell_type": "code",
   "execution_count": 32,
   "metadata": {
    "collapsed": false
   },
   "outputs": [
    {
     "name": "stdout",
     "output_type": "stream",
     "text": [
      "(540, 960, 3)\n",
      "(540, 960, 3)\n",
      "(540, 960, 3)\n",
      "(540, 960, 3)\n"
     ]
    }
   ],
   "source": [
    "import cPickle as pickle\n",
    "from matplotlib import pyplot as plt\n",
    "import numpy as np\n",
    "import cv2\n",
    "import os\n",
    "import caffe\n",
    "\n",
    "blur_radius = 6\n",
    "\n",
    "input_folder = '../cam_imgs/'\n",
    "\n",
    "filter_out = ['median_image.jpg',\n",
    "              'high_image.jpg', \n",
    "              'low_image.jpg', \n",
    "              'std_image.jpg']\n",
    "\n",
    "image_list = os.listdir(input_folder)\n",
    "image_list = filter(lambda x : ('.jpg' in x) and (x not in filter_out), image_list)\n",
    "\n",
    "median_image = caffe.io.load_image(input_folder + 'median_image.jpg')\n",
    "high_image   = caffe.io.load_image(input_folder + 'high_image.jpg')\n",
    "low_image    = caffe.io.load_image(input_folder + 'low_image.jpg')\n",
    "std_image    = caffe.io.load_image(input_folder + 'std_image.jpg')\n",
    "\n",
    "image_shape = median_image.shape\n",
    "\n",
    "print median_image.shape\n",
    "print high_image.shape\n",
    "print low_image.shape\n",
    "print std_image.shape"
   ]
  },
  {
   "cell_type": "code",
   "execution_count": 33,
   "metadata": {
    "collapsed": false
   },
   "outputs": [],
   "source": [
    "plt.subplot(221)\n",
    "plt.imshow(median_image)\n",
    "plt.subplot(222)\n",
    "plt.imshow(low_image)\n",
    "plt.subplot(223)\n",
    "plt.imshow(high_image)\n",
    "plt.subplot(224)\n",
    "plt.imshow(std_image)\n",
    "plt.axis('off')\n",
    "plt.show()"
   ]
  },
  {
   "cell_type": "code",
   "execution_count": 34,
   "metadata": {
    "collapsed": true
   },
   "outputs": [],
   "source": [
    "in_image = caffe.io.load_image(input_folder + image_list[0])\n",
    "blur_in_image = cv2.blur(in_image, (blur_radius, blur_radius))"
   ]
  },
  {
   "cell_type": "code",
   "execution_count": 35,
   "metadata": {
    "collapsed": false
   },
   "outputs": [],
   "source": [
    "foreground_indices = np.where((blur_in_image[-3] > high_image[-3]))\n",
    "foreground = np.zeros(image_shape)\n",
    "foreground[foreground_indices] = in_image[foreground_indices]\n",
    "foreground_indices = np.where((blur_in_image.mean(-1) < low_image.mean(-1)))\n",
    "foreground[foreground_indices] = in_image[foreground_indices]"
   ]
  },
  {
   "cell_type": "code",
   "execution_count": null,
   "metadata": {
    "collapsed": false
   },
   "outputs": [],
   "source": [
    "print foreground\n",
    "\n",
    "plt.imshow(foreground)\n",
    "plt.show()"
   ]
  },
  {
   "cell_type": "code",
   "execution_count": null,
   "metadata": {
    "collapsed": true
   },
   "outputs": [],
   "source": []
  }
 ],
 "metadata": {
  "kernelspec": {
   "display_name": "Python 2",
   "language": "python",
   "name": "python2"
  },
  "language_info": {
   "codemirror_mode": {
    "name": "ipython",
    "version": 2
   },
   "file_extension": ".py",
   "mimetype": "text/x-python",
   "name": "python",
   "nbconvert_exporter": "python",
   "pygments_lexer": "ipython2",
   "version": "2.7.9"
  }
 },
 "nbformat": 4,
 "nbformat_minor": 0
}
