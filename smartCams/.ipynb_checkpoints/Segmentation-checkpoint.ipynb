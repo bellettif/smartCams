{
 "metadata": {
  "name": "",
  "signature": "sha256:2a2a97b2baeb89eb5b88f790c14973306899d55298c1d00b8326850986b04321"
 },
 "nbformat": 3,
 "nbformat_minor": 0,
 "worksheets": [
  {
   "cells": [
    {
     "cell_type": "code",
     "collapsed": false,
     "input": [
      " import time\n",
      "\n",
      "import numpy as np\n",
      "import scipy as sp\n",
      "import matplotlib.pyplot as plt\n",
      "\n",
      "from sklearn.feature_extraction import image\n",
      "from sklearn.cluster import spectral_clustering\n",
      "\n",
      "lena = sp.misc.lena()\n",
      "# Downsample the image by a factor of 4\n",
      "lena = lena[::2, ::2] + lena[1::2, ::2] + lena[::2, 1::2] + lena[1::2, 1::2]\n",
      "lena = lena[::2, ::2] + lena[1::2, ::2] + lena[::2, 1::2] + lena[1::2, 1::2]\n",
      "\n",
      "# Convert the image into a graph with the value of the gradient on the\n",
      "# edges.\n",
      "graph = image.img_to_graph(lena)\n",
      "\n",
      "# Take a decreasing function of the gradient: an exponential\n",
      "# The smaller beta is, the more independent the segmentation is of the\n",
      "# actual image. For beta=1, the segmentation is close to a voronoi\n",
      "beta = 5\n",
      "eps = 1e-6\n",
      "graph.data = np.exp(-beta * graph.data / lena.std()) + eps\n",
      "\n",
      "# Apply spectral clustering (this step goes much faster if you have pyamg\n",
      "# installed)\n",
      "N_REGIONS = 11\n",
      "\n",
      "###############################################################################\n",
      "# Visualize the resulting regions\n",
      "\n",
      "for assign_labels in ('kmeans', 'discretize'):\n",
      "    t0 = time.time()\n",
      "    labels = spectral_clustering(graph, n_clusters=N_REGIONS,\n",
      "                                 assign_labels=assign_labels,\n",
      "                                 random_state=1)\n",
      "    t1 = time.time()\n",
      "    labels = labels.reshape(lena.shape)\n",
      "\n",
      "    plt.figure(figsize=(5, 5))\n",
      "    plt.imshow(lena,   cmap=plt.cm.gray)\n",
      "    for l in range(N_REGIONS):\n",
      "        plt.contour(labels == l, contours=1,\n",
      "                    colors=[plt.cm.spectral(l / float(N_REGIONS)), ])\n",
      "    plt.xticks(())\n",
      "    plt.yticks(())\n",
      "    plt.title('Spectral clustering: %s, %.2fs' % (assign_labels, (t1 - t0)))\n",
      "\n",
      "plt.show()"
     ],
     "language": "python",
     "metadata": {},
     "outputs": [],
     "prompt_number": 1
    },
    {
     "cell_type": "code",
     "collapsed": false,
     "input": [
      "fr"
     ],
     "language": "python",
     "metadata": {},
     "outputs": []
    }
   ],
   "metadata": {}
  }
 ]
}