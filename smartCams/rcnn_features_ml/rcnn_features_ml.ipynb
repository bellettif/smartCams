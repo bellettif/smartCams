{
 "cells": [
  {
   "cell_type": "code",
   "execution_count": 111,
   "metadata": {
    "collapsed": false
   },
   "outputs": [
    {
     "name": "stdout",
     "output_type": "stream",
     "text": [
      "(900, 200) (900,)\n",
      "3\n"
     ]
    }
   ],
   "source": [
    "import cPickle as pickle\n",
    "from matplotlib import pyplot as plt\n",
    "import os\n",
    "\n",
    "# Grab Input Data\n",
    "features_dir = 'rcnn_features/'\n",
    "labels_path = 'labels.txt'\n",
    "\n",
    "data = []\n",
    "labels = []\n",
    "data_files = []\n",
    "with open(labels_path) as f:\n",
    "    for line in f:\n",
    "        data_file, label = line.split(' ')\n",
    "        labels.append(int(label))\n",
    "        data_files.append(data_file)\n",
    "        data.append(pickle.load(open(features_dir + data_file, 'rb')))\n",
    "labels = np.array(labels)\n",
    "data_files = np.array(data_files)\n",
    "data = np.squeeze(np.array(data))\n",
    "print data.shape, labels.shape\n",
    "print labels[470]"
   ]
  },
  {
   "cell_type": "code",
   "execution_count": 112,
   "metadata": {
    "collapsed": false
   },
   "outputs": [
    {
     "name": "stdout",
     "output_type": "stream",
     "text": [
      "(810, 200) (90, 200)\n",
      "(810,) (90,)\n"
     ]
    }
   ],
   "source": [
    "# Split data into training and test\n",
    "num_vectors = data.shape[0]\n",
    "test_ratio = .1\n",
    "num_test = num_vectors * test_ratio\n",
    "\n",
    "indices = np.random.permutation(num_vectors)\n",
    "training_idx, test_idx = indices[num_test:], indices[:num_test]\n",
    "training_data, test_data = data[training_idx,:], data[test_idx,:]\n",
    "training_labels, test_labels = labels[training_idx,], labels[test_idx,]\n",
    "\n",
    "print training_data.shape, test_data.shape\n",
    "print training_labels.shape, test_labels.shape"
   ]
  },
  {
   "cell_type": "code",
   "execution_count": 113,
   "metadata": {
    "collapsed": true
   },
   "outputs": [],
   "source": [
    "# Define Classifier\n",
    "from sklearn import svm\n",
    "classifier = svm.SVC()"
   ]
  },
  {
   "cell_type": "code",
   "execution_count": 114,
   "metadata": {
    "collapsed": false
   },
   "outputs": [
    {
     "name": "stdout",
     "output_type": "stream",
     "text": [
      "CPU times: user 6 µs, sys: 5 µs, total: 11 µs\n",
      "Wall time: 14.1 µs\n"
     ]
    }
   ],
   "source": [
    "% time\n",
    "# Train Classifier\n",
    "classifier.fit(training_data, training_labels);"
   ]
  },
  {
   "cell_type": "code",
   "execution_count": 115,
   "metadata": {
    "collapsed": false
   },
   "outputs": [
    {
     "name": "stdout",
     "output_type": "stream",
     "text": [
      "0.644444444444\n"
     ]
    }
   ],
   "source": [
    "# Test Classifier\n",
    "predicted_labels = classifier.predict(test_data)\n",
    "print classifier.score(test_data, test_labels)"
   ]
  },
  {
   "cell_type": "code",
   "execution_count": 116,
   "metadata": {
    "collapsed": false
   },
   "outputs": [
    {
     "name": "stdout",
     "output_type": "stream",
     "text": [
      "    Image Index  Predicted  Truth\n",
      "0   pict_493.pi          0      3\n",
      "1   pict_997.pi          0      3\n",
      "2   pict_701.pi          0      2\n",
      "3   pict_636.pi          0      3\n",
      "4   pict_474.pi          0      1\n",
      "5     pict_5.pi          0      1\n",
      "6   pict_462.pi          0      3\n",
      "7    pict_58.pi          0      3\n",
      "8   pict_732.pi          0      2\n",
      "9   pict_548.pi          0      3\n",
      "10  pict_547.pi          0      3\n",
      "11  pict_710.pi          0      2\n",
      "12  pict_515.pi          0      4\n",
      "13  pict_405.pi          0      1\n",
      "14   pict_52.pi          0      3\n",
      "15  pict_646.pi          0      3\n",
      "16  pict_391.pi          0      3\n",
      "17  pict_159.pi          0      2\n",
      "18   pict_18.pi          0      4\n",
      "19  pict_953.pi          0      2\n",
      "20  pict_586.pi          0      3\n",
      "21  pict_134.pi          0      2\n",
      "22  pict_269.pi          0      2\n",
      "23  pict_442.pi          0      3\n",
      "24   pict_36.pi          0      1\n",
      "25  pict_751.pi          0      3\n",
      "26  pict_307.pi          0      2\n",
      "27  pict_421.pi          0      4\n",
      "28  pict_866.pi          0      3\n",
      "29  pict_718.pi          0      4\n",
      "30  pict_909.pi          0      2\n",
      "31   pict_79.pi          0      2\n"
     ]
    }
   ],
   "source": [
    "import pandas\n",
    "wrong_test_idx = np.arange(test_labels.shape[0])[predicted_labels != test_labels]\n",
    "wrong_data_files_idx = test_idx[wrong_test_idx]\n",
    "wrong_data_files = data_files[wrong_data_files_idx]\n",
    "\n",
    "wrong_predicted = predicted_labels[predicted_labels != test_labels]\n",
    "wrong_true = test_labels[predicted_labels != test_labels]\n",
    "\n",
    "print pandas.DataFrame({\"Image Index\": wrong_data_files, \"Predicted\": wrong_predicted, \"Truth\": wrong_true})"
   ]
  },
  {
   "cell_type": "code",
   "execution_count": null,
   "metadata": {
    "collapsed": true
   },
   "outputs": [],
   "source": [
    "# Labels 0-4 = person, bike, bus, car, motorbike"
   ]
  },
  {
   "cell_type": "code",
   "execution_count": null,
   "metadata": {
    "collapsed": true
   },
   "outputs": [],
   "source": []
  }
 ],
 "metadata": {
  "kernelspec": {
   "display_name": "Python 2",
   "language": "python",
   "name": "python2"
  },
  "language_info": {
   "codemirror_mode": {
    "name": "ipython",
    "version": 2
   },
   "file_extension": ".py",
   "mimetype": "text/x-python",
   "name": "python",
   "nbconvert_exporter": "python",
   "pygments_lexer": "ipython2",
   "version": "2.7.9"
  }
 },
 "nbformat": 4,
 "nbformat_minor": 0
}
