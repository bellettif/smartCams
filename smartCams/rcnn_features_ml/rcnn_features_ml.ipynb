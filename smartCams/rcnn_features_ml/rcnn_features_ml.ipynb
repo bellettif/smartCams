{
 "cells": [
  {
   "cell_type": "code",
   "execution_count": 222,
   "metadata": {
    "collapsed": false
   },
   "outputs": [
    {
     "name": "stdout",
     "output_type": "stream",
     "text": [
      "(909, 200) (909,) (909,)\n"
     ]
    }
   ],
   "source": [
    "import cPickle as pickle\n",
    "from matplotlib import pyplot as plt\n",
    "import os\n",
    "\n",
    "# Grab Input Data\n",
    "training_labels_file = '../finetuning/VOC_cropped_warped_train_small.txt'\n",
    "data_files_path = 'rcnn_features/'\n",
    "\n",
    "data = []\n",
    "labels = []\n",
    "data_files = []\n",
    "with open(training_labels_file) as f:\n",
    "    for line in f:\n",
    "        data_file, label = line.split(' ')\n",
    "        data_file = data_file.split('/')[-1].split('.')[0] + '.pi'\n",
    "        try:\n",
    "            data.append(pickle.load(open(data_files_path + data_file, 'rb')))\n",
    "            labels.append(int(label))\n",
    "            data_files.append(data_file)\n",
    "        except IOError as e:\n",
    "            pass\n",
    "data = np.squeeze(np.array(data))\n",
    "labels = np.array(labels)\n",
    "data_files = np.array(data_files)\n",
    "print data.shape, labels.shape, data_files.shape"
   ]
  },
  {
   "cell_type": "code",
   "execution_count": 223,
   "metadata": {
    "collapsed": false
   },
   "outputs": [
    {
     "name": "stdout",
     "output_type": "stream",
     "text": [
      "(819, 200) (90, 200)\n",
      "(819,) (90,)\n"
     ]
    }
   ],
   "source": [
    "# Split data into training and test\n",
    "num_vectors = data.shape[0]\n",
    "test_ratio = .1\n",
    "num_test = num_vectors * test_ratio\n",
    "\n",
    "indices = np.random.permutation(num_vectors)\n",
    "training_idx, test_idx = indices[num_test:], indices[:num_test]\n",
    "training_data, test_data = data[training_idx,:], data[test_idx,:]\n",
    "training_labels, test_labels = labels[training_idx,], labels[test_idx,]\n",
    "\n",
    "print training_data.shape, test_data.shape\n",
    "print training_labels.shape, test_labels.shape"
   ]
  },
  {
   "cell_type": "code",
   "execution_count": 224,
   "metadata": {
    "collapsed": true
   },
   "outputs": [],
   "source": [
    "# Define Classifier\n",
    "from sklearn import svm, neighbors, linear_model, ensemble\n",
    "# classifier = svm.LinearSVC()\n",
    "# classifier = svm.SVC()\n",
    "# classifier = neighbors.KNeighborsClassifier()\n",
    "# classifier = linear_model.SGDClassifier()\n",
    "classifier = ensemble.RandomForestClassifier()\n",
    "# classifer = ensemble.AdaBoostClassifier()\n",
    "# classifer = ensemble.GradientBoostingClassifier()\n",
    "# classifer = ensemble.ExtraTreesClassifier()"
   ]
  },
  {
   "cell_type": "code",
   "execution_count": 225,
   "metadata": {
    "collapsed": false
   },
   "outputs": [
    {
     "name": "stdout",
     "output_type": "stream",
     "text": [
      "CPU times: user 2 µs, sys: 0 ns, total: 2 µs\n",
      "Wall time: 5.01 µs\n"
     ]
    }
   ],
   "source": [
    "% time\n",
    "# Train Classifier\n",
    "classifier.fit(training_data, training_labels);"
   ]
  },
  {
   "cell_type": "code",
   "execution_count": 226,
   "metadata": {
    "collapsed": false
   },
   "outputs": [
    {
     "name": "stdout",
     "output_type": "stream",
     "text": [
      "0.677777777778\n"
     ]
    }
   ],
   "source": [
    "# Test Classifier\n",
    "predicted_labels = classifier.predict(test_data)\n",
    "print classifier.score(test_data, test_labels)"
   ]
  },
  {
   "cell_type": "code",
   "execution_count": 227,
   "metadata": {
    "collapsed": false
   },
   "outputs": [
    {
     "name": "stdout",
     "output_type": "stream",
     "text": [
      "29 / 90\n",
      "    Image Index  Predicted  Truth\n",
      "0   pict_899.pi          0      3\n",
      "1   pict_463.pi          0      3\n",
      "2   pict_928.pi          3      1\n",
      "3   pict_194.pi          0      3\n",
      "4   pict_697.pi          0      1\n",
      "5   pict_602.pi          1      0\n",
      "6   pict_565.pi          0      1\n",
      "7   pict_415.pi          0      1\n",
      "8   pict_719.pi          3      0\n",
      "9   pict_587.pi          0      3\n",
      "10  pict_842.pi          0      4\n",
      "11  pict_133.pi          0      2\n",
      "12  pict_102.pi          0      1\n",
      "13  pict_558.pi          0      3\n",
      "14  pict_537.pi          0      3\n",
      "15  pict_961.pi          0      1\n",
      "16  pict_296.pi          0      2\n",
      "17  pict_647.pi          0      3\n",
      "18   pict_29.pi          0      1\n",
      "19   pict_42.pi          0      2\n",
      "20  pict_911.pi          0      3\n",
      "21  pict_585.pi          0      1\n",
      "22  pict_969.pi          0      3\n",
      "23  pict_474.pi          0      1\n",
      "24  pict_214.pi          0      3\n",
      "25  pict_864.pi          0      3\n",
      "26  pict_645.pi          0      3\n",
      "27  pict_460.pi          0      4\n",
      "28  pict_356.pi          0      4\n"
     ]
    }
   ],
   "source": [
    "import pandas\n",
    "wrong_test_idx = np.arange(test_labels.shape[0])[predicted_labels != test_labels]\n",
    "wrong_data_files_idx = test_idx[wrong_test_idx]\n",
    "wrong_data_files = data_files[wrong_data_files_idx]\n",
    "\n",
    "wrong_predicted = predicted_labels[predicted_labels != test_labels]\n",
    "wrong_true = test_labels[predicted_labels != test_labels]\n",
    "\n",
    "print len(wrong_true), '/', len(test_labels)\n",
    "print pandas.DataFrame({\"Image Index\": wrong_data_files, \"Predicted\": wrong_predicted, \"Truth\": wrong_true})"
   ]
  },
  {
   "cell_type": "code",
   "execution_count": 228,
   "metadata": {
    "collapsed": true
   },
   "outputs": [],
   "source": [
    "# Labels 0-4 = person, bike, bus, car, motorbike"
   ]
  },
  {
   "cell_type": "code",
   "execution_count": null,
   "metadata": {
    "collapsed": true
   },
   "outputs": [],
   "source": []
  }
 ],
 "metadata": {
  "kernelspec": {
   "display_name": "Python 2",
   "language": "python",
   "name": "python2"
  },
  "language_info": {
   "codemirror_mode": {
    "name": "ipython",
    "version": 2
   },
   "file_extension": ".py",
   "mimetype": "text/x-python",
   "name": "python",
   "nbconvert_exporter": "python",
   "pygments_lexer": "ipython2",
   "version": "2.7.9"
  }
 },
 "nbformat": 4,
 "nbformat_minor": 0
}
