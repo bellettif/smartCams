{
 "cells": [
  {
   "cell_type": "code",
   "execution_count": 2,
   "metadata": {
    "collapsed": false
   },
   "outputs": [
    {
     "name": "stdout",
     "output_type": "stream",
     "text": [
      "(36304, 4096) (36304,) (36304,)\n"
     ]
    }
   ],
   "source": [
    "import cPickle as pickle\n",
    "from matplotlib import pyplot as plt\n",
    "import os\n",
    "import numpy as np\n",
    "\n",
    "# Grab Input Data\n",
    "labels_file = '../image_dump/train_test_list.txt'\n",
    "data_files_path = '../../VOC2012/fc7_features/'\n",
    "\n",
    "data = []\n",
    "labels = []\n",
    "data_files = []\n",
    "with open(labels_file) as f:\n",
    "    for line in f:\n",
    "        data_file, label = line.split(' ')\n",
    "        data_file = data_file.split('/')[-1].split('.')[0] + '.pi'\n",
    "        try:\n",
    "            data.append(pickle.load(open(data_files_path + data_file, 'rb')))\n",
    "            labels.append(int(label))\n",
    "            data_files.append(data_file)\n",
    "        except IOError as e:\n",
    "            pass\n",
    "data = np.squeeze(np.array(data))\n",
    "labels = np.array(labels)\n",
    "data_files = np.array(data_files)\n",
    "print data.shape, labels.shape, data_files.shape"
   ]
  },
  {
   "cell_type": "code",
   "execution_count": 27,
   "metadata": {
    "collapsed": false
   },
   "outputs": [
    {
     "name": "stdout",
     "output_type": "stream",
     "text": [
      "(29044, 4096) (7260, 4096)\n",
      "(29044,) (7260,)\n"
     ]
    }
   ],
   "source": [
    "# Split data into training and test\n",
    "num_vectors = data.shape[0]\n",
    "test_ratio = .2\n",
    "num_test = num_vectors * test_ratio\n",
    "\n",
    "indices = np.random.permutation(num_vectors)\n",
    "training_idx, test_idx = indices[num_test:], indices[:num_test]\n",
    "training_data, test_data = data[training_idx,:], data[test_idx,:]\n",
    "training_labels, test_labels = labels[training_idx,], labels[test_idx,]\n",
    "\n",
    "print training_data.shape, test_data.shape\n",
    "print training_labels.shape, test_labels.shape"
   ]
  },
  {
   "cell_type": "code",
   "execution_count": 31,
   "metadata": {
    "collapsed": false
   },
   "outputs": [],
   "source": [
    "# Define Classifier\n",
    "# http://scikit-learn.org/stable/modules/grid_search.html\n",
    "from sklearn import svm, neighbors, linear_model, ensemble, grid_search \n",
    "\n",
    "scoring = 'f1_weighted'\n",
    "class_weight = 'subsample' # 'subsample' (forests only), 'auto'\n",
    "\n",
    "classifier = ensemble.RandomForestClassifier(n_estimators=20, max_depth=15, class_weight=class_weight)\n",
    "# classifier = grid_search.GridSearchCV(svm.LinearSVC(class_weight=class_weight), {'C':[.01, .1, 1, 10, 100]}, scoring=scoring)\n",
    "\n",
    "# classifier = linear_model.RidgeClassifierCV()\n",
    "# classifier = linear_model.SGDClassifier()\n",
    "# classifier = ensemble.AdaBoostClassifier()\n",
    "# classifer = ensemble.GradientBoostingClassifier()\n",
    "# classifer = ensemble.ExtraTreesClassifier()\n",
    "\n",
    "## Slow\n",
    "# classifier = grid_search.GridSearchCV(svm.SVC(class_weight=class_weight), {'kernel':('linear','rbf'), 'C':[.01, .1, 1, 10, 100]}, scoring=scoring)\n",
    "# classifier = neighbors.KNeighborsClassifier()"
   ]
  },
  {
   "cell_type": "code",
   "execution_count": 32,
   "metadata": {
    "collapsed": false
   },
   "outputs": [
    {
     "name": "stdout",
     "output_type": "stream",
     "text": [
      "CPU times: user 16.8 s, sys: 50.6 ms, total: 16.9 s\n",
      "Wall time: 16.9 s\n"
     ]
    },
    {
     "data": {
      "text/plain": [
       "RandomForestClassifier(bootstrap=True, class_weight='subsample',\n",
       "            criterion='gini', max_depth=15, max_features='auto',\n",
       "            max_leaf_nodes=None, min_samples_leaf=1, min_samples_split=2,\n",
       "            min_weight_fraction_leaf=0.0, n_estimators=20, n_jobs=1,\n",
       "            oob_score=False, random_state=None, verbose=0,\n",
       "            warm_start=False)"
      ]
     },
     "execution_count": 32,
     "metadata": {},
     "output_type": "execute_result"
    }
   ],
   "source": [
    "%%time\n",
    "# Train Classifier\n",
    "classifier.fit(training_data, training_labels);"
   ]
  },
  {
   "cell_type": "code",
   "execution_count": 33,
   "metadata": {
    "collapsed": false
   },
   "outputs": [
    {
     "name": "stdout",
     "output_type": "stream",
     "text": [
      "0.990152871505\n",
      "[ 0.93525326  0.93709786  0.93961843]\n",
      "0.942011019284\n"
     ]
    }
   ],
   "source": [
    "# Test Classifier\n",
    "from sklearn.cross_validation import cross_val_score\n",
    "\n",
    "predicted_labels = classifier.predict(test_data)\n",
    "print classifier.score(training_data, training_labels) # score is always accuracy\n",
    "print cross_val_score(classifier, training_data, training_labels, scoring=scoring)\n",
    "print classifier.score(test_data, test_labels) # score is always accuracy"
   ]
  },
  {
   "cell_type": "code",
   "execution_count": 34,
   "metadata": {
    "collapsed": false
   },
   "outputs": [
    {
     "name": "stdout",
     "output_type": "stream",
     "text": [
      "Training Confusion Matrix\n",
      "[[11077   103     0     0    38     0]\n",
      " [   85 13866     1     0    17    13]\n",
      " [    3     4   664     0     0     0]\n",
      " [    0     0     0   530     0     0]\n",
      " [   13     5     0     0  1981     2]\n",
      " [    1     1     0     0     0   640]]\n",
      "Test Results\n",
      "Wrong: 421 / 7260 , 0.0579889807163\n",
      "[[2777   60    1    1   30    1]\n",
      " [  82 3313    1    0   16    7]\n",
      " [  14   24  120    0    2    6]\n",
      " [  26    1    0  111   17    0]\n",
      " [  41   30    2    2  412    4]\n",
      " [   4   33    6    0   10  106]]\n",
      "       Image Index  Predicted  Truth\n",
      "0    pict_13064.pi          0      1\n",
      "1    pict_27266.pi          1      0\n",
      "2    pict_11446.pi          1      4\n",
      "3     pict_3546.pi          0      1\n",
      "4     pict_6778.pi          0      4\n",
      "5     pict_3599.pi          0      1\n",
      "6    pict_22336.pi          1      0\n",
      "7     pict_1783.pi          0      1\n",
      "8     pict_4201.pi          1      5\n",
      "9     pict_9376.pi          1      5\n",
      "10   pict_10400.pi          5      2\n",
      "11    pict_1199.pi          5      1\n",
      "12    pict_7008.pi          4      5\n",
      "13    pict_1573.pi          1      2\n",
      "14    pict_5409.pi          0      1\n",
      "15   pict_11322.pi          4      3\n",
      "16    pict_4232.pi          4      1\n",
      "17   pict_10690.pi          4      5\n",
      "18    pict_2896.pi          1      5\n",
      "19   pict_14279.pi          2      5\n",
      "20   pict_35565.pi          1      0\n",
      "21   pict_13116.pi          1      4\n",
      "22   pict_13211.pi          0      1\n",
      "23   pict_34280.pi          1      0\n",
      "24    pict_3873.pi          5      4\n",
      "25   pict_12913.pi          1      4\n",
      "26   pict_33729.pi          4      0\n",
      "27   pict_34873.pi          4      0\n",
      "28    pict_4231.pi          4      1\n",
      "29    pict_9896.pi          0      3\n",
      "..             ...        ...    ...\n",
      "391  pict_34959.pi          4      0\n",
      "392   pict_2049.pi          0      1\n",
      "393   pict_5015.pi          4      1\n",
      "394  pict_11699.pi          0      3\n",
      "395   pict_1406.pi          4      5\n",
      "396   pict_7770.pi          0      2\n",
      "397   pict_9549.pi          0      1\n",
      "398   pict_7539.pi          1      2\n",
      "399   pict_7421.pi          0      3\n",
      "400  pict_21477.pi          0      1\n",
      "401  pict_16423.pi          4      1\n",
      "402  pict_13231.pi          1      5\n",
      "403  pict_12346.pi          0      1\n",
      "404   pict_5897.pi          1      4\n",
      "405   pict_6155.pi          0      5\n",
      "406  pict_10340.pi          5      1\n",
      "407  pict_35751.pi          1      0\n",
      "408   pict_5962.pi          1      4\n",
      "409  pict_15227.pi          1      2\n",
      "410  pict_13310.pi          1      4\n",
      "411   pict_8942.pi          1      5\n",
      "412   pict_3642.pi          1      5\n",
      "413  pict_35567.pi          1      0\n",
      "414  pict_25703.pi          1      0\n",
      "415   pict_1916.pi          0      4\n",
      "416  pict_35758.pi          1      0\n",
      "417  pict_12128.pi          0      3\n",
      "418  pict_14403.pi          5      2\n",
      "419  pict_15642.pi          1      5\n",
      "420   pict_5507.pi          1      2\n",
      "\n",
      "[421 rows x 3 columns]\n"
     ]
    }
   ],
   "source": [
    "import pandas\n",
    "from sklearn.metrics import confusion_matrix\n",
    "wrong_test_idx = np.arange(test_labels.shape[0])[predicted_labels != test_labels]\n",
    "wrong_data_files_idx = test_idx[wrong_test_idx]\n",
    "wrong_data_files = data_files[wrong_data_files_idx]\n",
    "\n",
    "wrong_predicted = predicted_labels[predicted_labels != test_labels]\n",
    "wrong_true = test_labels[predicted_labels != test_labels]\n",
    "\n",
    "# Labels 0-5 = background, person, bike, bus, car, motorbike\n",
    "print \"Training Confusion Matrix\"\n",
    "print confusion_matrix(training_labels, classifier.predict(training_data))\n",
    "print \"Test Results\"\n",
    "print \"Wrong:\", len(wrong_true), '/', len(test_labels), ',', float(len(wrong_true))/len(test_labels)\n",
    "print confusion_matrix(test_labels, predicted_labels)\n",
    "print pandas.DataFrame({\"Image Index\": wrong_data_files, \"Predicted\": wrong_predicted, \"Truth\": wrong_true})"
   ]
  },
  {
   "cell_type": "code",
   "execution_count": 35,
   "metadata": {
    "collapsed": false
   },
   "outputs": [
    {
     "data": {
      "image/png": "[encoded data removed]",
      "text/plain": [
       "<matplotlib.figure.Figure at 0x15488b610>"
      ]
     },
     "metadata": {},
     "output_type": "display_data"
    }
   ],
   "source": [
    "%matplotlib inline\n",
    "# Visualize Feature Importances\n",
    "# Forest/Tree Classifiers only\n",
    "import matplotlib.pyplot as plt\n",
    "\n",
    "importances = classifier.feature_importances_\n",
    "\n",
    "width = 0.35       # the width of the bars\n",
    "plt.subplot(211)\n",
    "plt.bar(np.arange(importances.shape[0]), importances, width, color='r')\n",
    "plt.title(\"Feature Importances of Model\")\n",
    "plt.ylabel(\"Importance\")\n",
    "plt.subplot(212)\n",
    "plt.bar(np.arange(importances.shape[0]),sorted(importances), width, color='r')\n",
    "plt.xlabel(\"Features\")\n",
    "plt.ylabel(\"Importance\")\n",
    "plt.show()"
   ]
  },
  {
   "cell_type": "code",
   "execution_count": 36,
   "metadata": {
    "collapsed": false
   },
   "outputs": [
    {
     "name": "stdout",
     "output_type": "stream",
     "text": [
      "0.962525943336\n"
     ]
    },
    {
     "name": "stderr",
     "output_type": "stream",
     "text": [
      "/Users/alvinyuan/Documents/Vision/smartCams/venv/lib/python2.7/site-packages/sklearn/grid_search.py:370: ChangedBehaviorWarning: The long-standing behavior to use the estimator's score function in GridSearchCV.score has changed. The scoring parameter is now used.\n",
      "  ChangedBehaviorWarning)\n"
     ]
    }
   ],
   "source": [
    "import pickle\n",
    "# Export model\n",
    "svm_classifier = grid_search.GridSearchCV(svm.LinearSVC(class_weight='auto'), {'C':[.01, .1, 1, 10, 100]}, scoring=scoring)\n",
    "svm_classifier.fit(training_data, training_labels);\n",
    "print svm_classifier.score(test_data, test_labels)\n",
    "pickle.dump(svm_classifier, open('svm_fc7_with_bg_model', 'wb'))"
   ]
  },
  {
   "cell_type": "code",
   "execution_count": 37,
   "metadata": {
    "collapsed": false
   },
   "outputs": [
    {
     "name": "stdout",
     "output_type": "stream",
     "text": [
      "0.934986225895\n"
     ]
    }
   ],
   "source": [
    "forest_classifier = ensemble.RandomForestClassifier(n_estimators=20, max_depth=15, class_weight='subsample')\n",
    "forest_classifier.fit(training_data, training_labels);\n",
    "print forest_classifier.score(test_data, test_labels)\n",
    "pickle.dump(forest_classifier, open('forest_fc7_with_bg_model', 'wb'))"
   ]
  },
  {
   "cell_type": "code",
   "execution_count": null,
   "metadata": {
    "collapsed": true
   },
   "outputs": [],
   "source": []
  }
 ],
 "metadata": {
  "kernelspec": {
   "display_name": "Python 2",
   "language": "python",
   "name": "python2"
  },
  "language_info": {
   "codemirror_mode": {
    "name": "ipython",
    "version": 2
   },
   "file_extension": ".py",
   "mimetype": "text/x-python",
   "name": "python",
   "nbconvert_exporter": "python",
   "pygments_lexer": "ipython2",
   "version": "2.7.5"
  }
 },
 "nbformat": 4,
 "nbformat_minor": 0
}
