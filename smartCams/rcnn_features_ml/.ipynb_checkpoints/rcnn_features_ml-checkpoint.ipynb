{
 "cells": [
  {
   "cell_type": "code",
   "execution_count": 2,
   "metadata": {
    "collapsed": false
   },
   "outputs": [
    {
     "name": "stdout",
     "output_type": "stream",
     "text": [
      "(20005, 4096) (20005,) (20005,)\n"
     ]
    }
   ],
   "source": [
    "import cPickle as pickle\n",
    "from matplotlib import pyplot as plt\n",
    "import os\n",
    "import numpy as np\n",
    "\n",
    "# Grab Input Data\n",
    "training_labels_file = '../finetuning/VOC_cropped_warped_train_small.txt'\n",
    "data_files_path = '../../VOC2012/fc7_features/'\n",
    "\n",
    "data = []\n",
    "labels = []\n",
    "data_files = []\n",
    "with open(training_labels_file) as f:\n",
    "    for line in f:\n",
    "        data_file, label = line.split(' ')\n",
    "        data_file = data_file.split('/')[-1].split('.')[0] + '.pi'\n",
    "        try:\n",
    "            data.append(pickle.load(open(data_files_path + data_file, 'rb')))\n",
    "            labels.append(int(label))\n",
    "            data_files.append(data_file)\n",
    "        except IOError as e:\n",
    "            pass\n",
    "data = np.squeeze(np.array(data))\n",
    "labels = np.array(labels)\n",
    "data_files = np.array(data_files)\n",
    "print data.shape, labels.shape, data_files.shape"
   ]
  },
  {
   "cell_type": "code",
   "execution_count": 3,
   "metadata": {
    "collapsed": false
   },
   "outputs": [
    {
     "name": "stdout",
     "output_type": "stream",
     "text": [
      "(16004, 4096) (4001, 4096)\n",
      "(16004,) (4001,)\n"
     ]
    }
   ],
   "source": [
    "# Split data into training and test\n",
    "num_vectors = data.shape[0]\n",
    "test_ratio = .2\n",
    "num_test = num_vectors * test_ratio\n",
    "\n",
    "indices = np.random.permutation(num_vectors)\n",
    "training_idx, test_idx = indices[num_test:], indices[:num_test]\n",
    "training_data, test_data = data[training_idx,:], data[test_idx,:]\n",
    "training_labels, test_labels = labels[training_idx,], labels[test_idx,]\n",
    "\n",
    "print training_data.shape, test_data.shape\n",
    "print training_labels.shape, test_labels.shape"
   ]
  },
  {
   "cell_type": "code",
   "execution_count": 11,
   "metadata": {
    "collapsed": false
   },
   "outputs": [],
   "source": [
    "# Define Classifier\n",
    "# http://scikit-learn.org/stable/modules/grid_search.html\n",
    "from sklearn import svm, neighbors, linear_model, ensemble, grid_search \n",
    "\n",
    "scoring = 'f1_weighted'\n",
    "classifier = ensemble.RandomForestClassifier(max_depth=15, class_weight='subsample')\n",
    "# classifier = grid_search.GridSearchCV(svm.LinearSVC(loss='l1', class_weight='auto'), {'C':[.01, .1, 1, 10, 100]}, scoring=scoring)\n",
    "\n",
    "# classifier = linear_model.RidgeClassifierCV()\n",
    "# classifier = linear_model.SGDClassifier()\n",
    "# classifier = ensemble.AdaBoostClassifier()\n",
    "# classifer = ensemble.GradientBoostingClassifier()\n",
    "# classifer = ensemble.ExtraTreesClassifier()\n",
    "\n",
    "## Slow\n",
    "# classifier = grid_search.GridSearchCV(svm.SVC(class_weight='auto'), {'kernel':('linear','rbf'), 'C':[.01, .1, 1, 10, 100]}, scoring=scoring)\n",
    "# classifier = neighbors.KNeighborsClassifier()"
   ]
  },
  {
   "cell_type": "code",
   "execution_count": 12,
   "metadata": {
    "collapsed": false
   },
   "outputs": [
    {
     "name": "stdout",
     "output_type": "stream",
     "text": [
      "CPU times: user 3.87 s, sys: 383 ms, total: 4.26 s\n",
      "Wall time: 4.4 s\n"
     ]
    },
    {
     "data": {
      "text/plain": [
       "RandomForestClassifier(bootstrap=True, class_weight='subsample',\n",
       "            criterion='gini', max_depth=15, max_features='auto',\n",
       "            max_leaf_nodes=None, min_samples_leaf=1, min_samples_split=2,\n",
       "            min_weight_fraction_leaf=0.0, n_estimators=10, n_jobs=1,\n",
       "            oob_score=False, random_state=None, verbose=0,\n",
       "            warm_start=False)"
      ]
     },
     "execution_count": 12,
     "metadata": {},
     "output_type": "execute_result"
    }
   ],
   "source": [
    "%%time\n",
    "# Train Classifier\n",
    "classifier.fit(training_data, training_labels);"
   ]
  },
  {
   "cell_type": "code",
   "execution_count": 13,
   "metadata": {
    "collapsed": false
   },
   "outputs": [
    {
     "name": "stdout",
     "output_type": "stream",
     "text": [
      "0.995501124719\n",
      "[ 0.93656255  0.93672879  0.9402177 ]\n",
      "0.93951512122\n"
     ]
    }
   ],
   "source": [
    "# Test Classifier\n",
    "from sklearn.cross_validation import cross_val_score\n",
    "\n",
    "predicted_labels = classifier.predict(test_data)\n",
    "print classifier.score(training_data, training_labels) # score is always accuracy\n",
    "print cross_val_score(classifier, training_data, training_labels, scoring=scoring)\n",
    "print classifier.score(test_data, test_labels) # score is always accuracy"
   ]
  },
  {
   "cell_type": "code",
   "execution_count": 14,
   "metadata": {
    "collapsed": false
   },
   "outputs": [
    {
     "name": "stdout",
     "output_type": "stream",
     "text": [
      "Training Confusion Matrix\n",
      "[[12537     3     0    14    11]\n",
      " [    9   579     0     0     1]\n",
      " [    2     0   494     3     0]\n",
      " [   15     0     1  1764     0]\n",
      " [   11     1     0     1   558]]\n",
      "Test Results\n",
      "Wrong: 242 / 4001 , 0.0604848787803\n",
      "[[3067    1    0   27    7]\n",
      " [  44  104    0    4    8]\n",
      " [   5    0   92   26    0]\n",
      " [  50    1    5  403    3]\n",
      " [  47    8    0    6   93]]\n",
      "       Image Index  Predicted  Truth\n",
      "0    pict_15750.pi          4      1\n",
      "1    pict_14855.pi          0      3\n",
      "2     pict_4668.pi          0      4\n",
      "3    pict_15826.pi          0      4\n",
      "4     pict_7271.pi          0      1\n",
      "5    pict_12000.pi          0      3\n",
      "6     pict_9504.pi          0      3\n",
      "7     pict_7988.pi          4      0\n",
      "8    pict_17245.pi          3      0\n",
      "9    pict_14900.pi          4      0\n",
      "10   pict_15808.pi          4      1\n",
      "11   pict_13412.pi          0      3\n",
      "12    pict_8212.pi          1      4\n",
      "13   pict_10123.pi          3      2\n",
      "14   pict_10189.pi          0      1\n",
      "15    pict_6707.pi          0      4\n",
      "16   pict_10313.pi          4      1\n",
      "17    pict_6694.pi          2      3\n",
      "18   pict_15265.pi          3      0\n",
      "19   pict_20955.pi          3      0\n",
      "20     pict_296.pi          3      2\n",
      "21     pict_894.pi          0      1\n",
      "22    pict_9966.pi          0      3\n",
      "23   pict_11359.pi          0      3\n",
      "24   pict_13417.pi          3      0\n",
      "25    pict_5932.pi          0      1\n",
      "26     pict_845.pi          0      3\n",
      "27   pict_16012.pi          1      0\n",
      "28   pict_12311.pi          3      0\n",
      "29   pict_15817.pi          3      2\n",
      "..             ...        ...    ...\n",
      "212  pict_10580.pi          0      4\n",
      "213   pict_7629.pi          4      1\n",
      "214  pict_11036.pi          0      3\n",
      "215   pict_4559.pi          0      1\n",
      "216    pict_745.pi          3      0\n",
      "217  pict_15921.pi          0      4\n",
      "218   pict_6886.pi          0      3\n",
      "219  pict_12504.pi          2      3\n",
      "220   pict_3010.pi          3      2\n",
      "221   pict_4202.pi          0      4\n",
      "222  pict_12597.pi          0      3\n",
      "223   pict_8359.pi          0      3\n",
      "224   pict_3831.pi          0      1\n",
      "225   pict_5823.pi          4      3\n",
      "226  pict_15861.pi          3      4\n",
      "227  pict_10355.pi          0      1\n",
      "228   pict_3220.pi          0      3\n",
      "229   pict_9984.pi          0      4\n",
      "230   pict_9367.pi          0      1\n",
      "231   pict_6376.pi          0      4\n",
      "232  pict_12529.pi          0      4\n",
      "233  pict_14688.pi          3      0\n",
      "234   pict_6463.pi          3      0\n",
      "235  pict_15448.pi          0      3\n",
      "236  pict_14079.pi          2      3\n",
      "237   pict_6955.pi          0      3\n",
      "238   pict_8649.pi          0      4\n",
      "239   pict_6511.pi          0      1\n",
      "240   pict_6130.pi          3      0\n",
      "241  pict_16262.pi          0      4\n",
      "\n",
      "[242 rows x 3 columns]\n"
     ]
    }
   ],
   "source": [
    "import pandas\n",
    "from sklearn.metrics import confusion_matrix\n",
    "wrong_test_idx = np.arange(test_labels.shape[0])[predicted_labels != test_labels]\n",
    "wrong_data_files_idx = test_idx[wrong_test_idx]\n",
    "wrong_data_files = data_files[wrong_data_files_idx]\n",
    "\n",
    "wrong_predicted = predicted_labels[predicted_labels != test_labels]\n",
    "wrong_true = test_labels[predicted_labels != test_labels]\n",
    "\n",
    "# Labels 0-4 = person, bike, bus, car, motorbike\n",
    "print \"Training Confusion Matrix\"\n",
    "print confusion_matrix(training_labels, classifier.predict(training_data))\n",
    "print \"Test Results\"\n",
    "print \"Wrong:\", len(wrong_true), '/', len(test_labels), ',', float(len(wrong_true))/len(test_labels)\n",
    "print confusion_matrix(test_labels, predicted_labels)\n",
    "print pandas.DataFrame({\"Image Index\": wrong_data_files, \"Predicted\": wrong_predicted, \"Truth\": wrong_true})"
   ]
  },
  {
   "cell_type": "code",
   "execution_count": 16,
   "metadata": {
    "collapsed": false
   },
   "outputs": [
    {
     "data": {
      "image/png": "[encoded data removed]",
      "text/plain": [
       "<matplotlib.figure.Figure at 0x102ab0e90>"
      ]
     },
     "metadata": {},
     "output_type": "display_data"
    }
   ],
   "source": [
    "%matplotlib inline\n",
    "# Visualize Feature Importances\n",
    "# Forest/Tree Classifiers only\n",
    "import matplotlib.pyplot as plt\n",
    "\n",
    "importances = classifier.feature_importances_\n",
    "\n",
    "width = 0.35       # the width of the bars\n",
    "plt.subplot(211)\n",
    "plt.bar(np.arange(importances.shape[0]), importances, width, color='r')\n",
    "plt.title(\"Feature Importances of Model\")\n",
    "plt.xlabel(\"Features\")\n",
    "plt.ylabel(\"Importance\")\n",
    "plt.subplot(212)\n",
    "plt.bar(np.arange(importances.shape[0]), importances, width, color='r')\n",
    "plt.title(\"Feature Importances of Model\")\n",
    "plt.xlabel(\"Features\")\n",
    "plt.ylabel(\"Importance\")\n",
    "plt.show()"
   ]
  },
  {
   "cell_type": "code",
   "execution_count": null,
   "metadata": {
    "collapsed": true
   },
   "outputs": [],
   "source": []
  }
 ],
 "metadata": {
  "kernelspec": {
   "display_name": "Python 2",
   "language": "python",
   "name": "python2"
  },
  "language_info": {
   "codemirror_mode": {
    "name": "ipython",
    "version": 2
   },
   "file_extension": ".py",
   "mimetype": "text/x-python",
   "name": "python",
   "nbconvert_exporter": "python",
   "pygments_lexer": "ipython2",
   "version": "2.7.5"
  }
 },
 "nbformat": 4,
 "nbformat_minor": 0
}
